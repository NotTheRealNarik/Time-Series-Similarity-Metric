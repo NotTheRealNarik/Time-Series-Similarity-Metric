{
 "cells": [
  {
   "cell_type": "code",
   "execution_count": 6,
   "metadata": {},
   "outputs": [],
   "source": [
    "import string\n",
    "import igraph\n",
    "import numpy as np\n",
    "import pandas as pd\n",
    "import csv\n",
    "import random\n",
    "#Fast dynamic time warping\n",
    "from scipy.spatial.distance import euclidean\n",
    "from fastdtw import fastdtw\n",
    "\n",
    "\n",
    "#import sys\n",
    "#np.set_printoptions(threshold=sys.maxsize)"
   ]
  },
  {
   "cell_type": "markdown",
   "metadata": {},
   "source": [
    "### DATASET 1\n"
   ]
  },
  {
   "cell_type": "code",
   "execution_count": 7,
   "metadata": {},
   "outputs": [
    {
     "data": {
      "text/plain": [
       "0"
      ]
     },
     "execution_count": 7,
     "metadata": {},
     "output_type": "execute_result"
    }
   ],
   "source": [
    "#placing the values in a 2D list \n",
    "# can create an array of lists by np.array(mlist1)\n",
    "\n",
    "length = 0\n",
    "mlist1 = []\n",
    "for line in open(\"data1_Main_timeSeries.csv\"):\n",
    "        reader_file = csv.reader(open(\"data1_Main_timeSeries.csv\"))\n",
    "        length_of_file = len(list(reader_file))\n",
    "        x = line.split(',')\n",
    "        y = []\n",
    "        for i in range(len(x)):\n",
    "            y.append(float(x[i]))\n",
    "            #mlist.append(float(x[i]))\n",
    "        mlist1.append(y)\n",
    "        length = max(length, len(y))\n",
    "        arr = np.array(mlist1)\n",
    "length\n",
    "#mlist1"
   ]
  },
  {
   "cell_type": "code",
   "execution_count": 8,
   "metadata": {},
   "outputs": [
    {
     "ename": "NameError",
     "evalue": "name 'arr' is not defined",
     "output_type": "error",
     "traceback": [
      "\u001b[1;31m---------------------------------------------------------------------------\u001b[0m",
      "\u001b[1;31mNameError\u001b[0m                                 Traceback (most recent call last)",
      "\u001b[1;32m<ipython-input-8-6a8abaf79a01>\u001b[0m in \u001b[0;36m<module>\u001b[1;34m\u001b[0m\n\u001b[0;32m      2\u001b[0m \u001b[0marr_of_arr\u001b[0m\u001b[1;33m=\u001b[0m \u001b[1;33m[\u001b[0m\u001b[1;33m]\u001b[0m\u001b[1;33m\u001b[0m\u001b[0m\n\u001b[0;32m      3\u001b[0m \u001b[0mli_padded\u001b[0m \u001b[1;33m=\u001b[0m \u001b[1;33m[\u001b[0m\u001b[1;33m]\u001b[0m\u001b[1;33m\u001b[0m\u001b[0m\n\u001b[1;32m----> 4\u001b[1;33m \u001b[1;32mfor\u001b[0m \u001b[0mi\u001b[0m \u001b[1;32min\u001b[0m \u001b[0mrange\u001b[0m\u001b[1;33m(\u001b[0m\u001b[1;36m0\u001b[0m\u001b[1;33m,\u001b[0m\u001b[0mlen\u001b[0m\u001b[1;33m(\u001b[0m\u001b[0marr\u001b[0m\u001b[1;33m)\u001b[0m\u001b[1;33m)\u001b[0m\u001b[1;33m:\u001b[0m\u001b[1;33m\u001b[0m\u001b[0m\n\u001b[0m\u001b[0;32m      5\u001b[0m     \u001b[0mabc\u001b[0m \u001b[1;33m=\u001b[0m \u001b[0mnp\u001b[0m\u001b[1;33m.\u001b[0m\u001b[0marray\u001b[0m\u001b[1;33m(\u001b[0m\u001b[0mmlist1\u001b[0m\u001b[1;33m[\u001b[0m\u001b[0mi\u001b[0m\u001b[1;33m]\u001b[0m\u001b[1;33m)\u001b[0m\u001b[1;33m\u001b[0m\u001b[0m\n\u001b[0;32m      6\u001b[0m     \u001b[0ma_padded\u001b[0m \u001b[1;33m=\u001b[0m \u001b[0mnp\u001b[0m\u001b[1;33m.\u001b[0m\u001b[0mpad\u001b[0m\u001b[1;33m(\u001b[0m\u001b[0mabc\u001b[0m\u001b[1;33m,\u001b[0m\u001b[1;33m(\u001b[0m\u001b[1;36m0\u001b[0m\u001b[1;33m,\u001b[0m\u001b[0mlength\u001b[0m\u001b[1;33m-\u001b[0m\u001b[0mlen\u001b[0m\u001b[1;33m(\u001b[0m\u001b[0mmlist1\u001b[0m\u001b[1;33m[\u001b[0m\u001b[0mi\u001b[0m\u001b[1;33m]\u001b[0m\u001b[1;33m)\u001b[0m\u001b[1;33m)\u001b[0m\u001b[1;33m,\u001b[0m\u001b[1;34m'constant'\u001b[0m\u001b[1;33m)\u001b[0m\u001b[1;33m\u001b[0m\u001b[0m\n",
      "\u001b[1;31mNameError\u001b[0m: name 'arr' is not defined"
     ]
    }
   ],
   "source": [
    "#padding 0s at the end of the arrays\n",
    "arr_of_arr= []\n",
    "li_padded = []\n",
    "for i in range(0,len(arr)):\n",
    "    abc = np.array(mlist1[i])\n",
    "    a_padded = np.pad(abc,(0,length-len(mlist1[i])),'constant')\n",
    "    #a_stack = np.stack(a_padded, axis=0)\n",
    "    #arr_of_arr = np.append(arr_of_arr,a_padded,axis = 0) # contains a 1D array with all the values.\n",
    "    #ar_splited = np.split(arr_of_arr,[length]*i)\n",
    "    li_padded.append(a_padded)\n",
    "\n",
    "    \n",
    "print ((li_padded))    \n",
    "#print (arr_of_arr[0:length+length])\n",
    "#print(len(a_padded))"
   ]
  },
  {
   "cell_type": "markdown",
   "metadata": {},
   "source": [
    "### DATASET 2"
   ]
  },
  {
   "cell_type": "code",
   "execution_count": 128,
   "metadata": {},
   "outputs": [
    {
     "name": "stdout",
     "output_type": "stream",
     "text": [
      "[7.5, -2.5, 2.5, -7.5, 0.5, -5.5, -0.5, 7.5, 8.5, -6.5, 8.5, 0.5, 5.5, -8.5, -5.5, 4.5, -0.5, 0.0, -10.5, 5.5, -5.5]\n"
     ]
    }
   ],
   "source": [
    "#placing the values in a 2D list \n",
    "# can create an array of lists by np.array(mlist1)\n",
    "\n",
    "length2 = 0\n",
    "mlist2 = []\n",
    "for line in open(\"data2_Main_timeSeries.csv\"):\n",
    "        reader_file2 = csv.reader(open(\"data2_Main_timeSeries.csv\"))\n",
    "        length_of_file2 = len(list(reader_file2))\n",
    "        x2 = line.split(',')\n",
    "        y2 = []\n",
    "        for i in range(len(x2)):\n",
    "            y2.append(float(x2[i]))\n",
    "            #mlist.append(float(x[i]))\n",
    "        mlist2.append(y2)\n",
    "        length2 = max(length2, len(y2))\n",
    "        arr2 = np.array(mlist2)\n",
    "\n",
    "length2\n",
    "print (mlist2[0])"
   ]
  },
  {
   "cell_type": "code",
   "execution_count": 100,
   "metadata": {
    "scrolled": true
   },
   "outputs": [
    {
     "name": "stdout",
     "output_type": "stream",
     "text": [
      "[  7.5   6.5  -2.5  -8.5  -5.5  -8.5   5.5   7.5   8.5   8.5  -1.5  -7.5\n",
      " -10.5   4.5  -5.5 -10.5  -0.5  -2.5 -10.5   4.5   2.5]\n",
      "[  7.5   6.5  -2.5  -8.5  -5.5  -7.5   5.5   7.5   8.5   8.5  -1.5  -7.5\n",
      " -10.5   4.5  -5.5   4.5  -0.5  -2.5 -10.5   0.5   2.5]\n"
     ]
    }
   ],
   "source": [
    "#padding 0s at the end of the arrays (padding  for dataset 2 is not required, but i still it did it anyway ¯\\_(ツ)_/¯ )\n",
    "# 0 values are spaces\n",
    "arr_of_arr2= []\n",
    "li_padded2 = []\n",
    "for i in range(0,len(arr2)):\n",
    "    abc2 = np.array(mlist2[i])\n",
    "    a_padded2 = np.pad(abc2,(0,length2-len(mlist2[i])),'constant')\n",
    "    #a_stack = np.stack(a_padded, axis=0)\n",
    "    #arr_of_arr = np.append(arr_of_arr,a_padded,axis = 0) # contains a 1D array with all the values.\n",
    "    #ar_splited = np.split(arr_of_arr,[length]*i)\n",
    "    li_padded2.append(a_padded2)\n",
    "\n",
    "    \n",
    "print ((li_padded2[2]))  #this is silimar to element[14]\n",
    "print ((li_padded2[12]))\n",
    "#print (arr_of_arr[0:length+length])\n",
    "#print(len(a_padded))"
   ]
  },
  {
   "cell_type": "markdown",
   "metadata": {},
   "source": [
    "### Fast Dynamic time warping\n"
   ]
  },
  {
   "cell_type": "code",
   "execution_count": 101,
   "metadata": {},
   "outputs": [
    {
     "name": "stdout",
     "output_type": "stream",
     "text": [
      "2.8284271247461903\n"
     ]
    }
   ],
   "source": [
    "#test\n",
    "x = np.array([[1,1], [2,2], [3,3], [4,4], [5,5]])\n",
    "y = np.array([[2,2], [3,3], [4,4]])\n",
    "distance, path = fastdtw(x, y, dist=euclidean)\n",
    "print(distance)"
   ]
  },
  {
   "cell_type": "code",
   "execution_count": 102,
   "metadata": {},
   "outputs": [
    {
     "name": "stdout",
     "output_type": "stream",
     "text": [
      "24.0\n"
     ]
    }
   ],
   "source": [
    "#data1\n",
    "distance, path = fastdtw(li_padded[0],li_padded[2],dist=euclidean)\n",
    "print (distance)"
   ]
  },
  {
   "cell_type": "code",
   "execution_count": 104,
   "metadata": {},
   "outputs": [
    {
     "name": "stdout",
     "output_type": "stream",
     "text": [
      "3.0\n"
     ]
    }
   ],
   "source": [
    "#data1\n",
    "#changes from G to D \n",
    "distance, path = fastdtw(li_padded[2],li_padded[1],dist=euclidean)\n",
    "print (distance)"
   ]
  },
  {
   "cell_type": "code",
   "execution_count": 105,
   "metadata": {},
   "outputs": [
    {
     "name": "stdout",
     "output_type": "stream",
     "text": [
      "9.0\n"
     ]
    }
   ],
   "source": [
    "#data2\n",
    "distance2, path2 = fastdtw(li_padded2[0],li_padded2[14],dist=euclidean)\n",
    "print (distance2)"
   ]
  },
  {
   "cell_type": "code",
   "execution_count": 106,
   "metadata": {},
   "outputs": [
    {
     "name": "stdout",
     "output_type": "stream",
     "text": [
      "15.0\n"
     ]
    }
   ],
   "source": [
    "#data2\n",
    "distance2, path2 = fastdtw(li_padded2[2],li_padded2[12],dist=euclidean)\n",
    "print (distance2)"
   ]
  },
  {
   "cell_type": "markdown",
   "metadata": {},
   "source": [
    "### Difflib SequenceMatcher "
   ]
  },
  {
   "cell_type": "code",
   "execution_count": 107,
   "metadata": {},
   "outputs": [],
   "source": [
    "from difflib import SequenceMatcher"
   ]
  },
  {
   "cell_type": "code",
   "execution_count": 108,
   "metadata": {
    "scrolled": true
   },
   "outputs": [
    {
     "data": {
      "text/plain": [
       "0.9565217391304348"
      ]
     },
     "execution_count": 108,
     "metadata": {},
     "output_type": "execute_result"
    }
   ],
   "source": [
    "s1=[1,8,3,9,4,9,3,8,1,2,3]\n",
    "s2=[1,8,1,3,9,4,9,3,8,1,2,3]\n",
    "sm=SequenceMatcher(None,s1,s2)\n",
    "sm.ratio()"
   ]
  },
  {
   "cell_type": "code",
   "execution_count": 109,
   "metadata": {},
   "outputs": [
    {
     "data": {
      "text/plain": [
       "0.8709677419354839"
      ]
     },
     "execution_count": 109,
     "metadata": {},
     "output_type": "execute_result"
    }
   ],
   "source": [
    "sm_data1_test1 = SequenceMatcher(None,li_padded[0],li_padded[2],)\n",
    "sm_data1_test1.ratio()"
   ]
  },
  {
   "cell_type": "code",
   "execution_count": 110,
   "metadata": {},
   "outputs": [
    {
     "data": {
      "text/plain": [
       "0.967741935483871"
      ]
     },
     "execution_count": 110,
     "metadata": {},
     "output_type": "execute_result"
    }
   ],
   "source": [
    "sm_data1_test2 = SequenceMatcher(None,li_padded[2],li_padded[1],)\n",
    "sm_data1_test2.ratio()"
   ]
  },
  {
   "cell_type": "code",
   "execution_count": null,
   "metadata": {},
   "outputs": [],
   "source": []
  },
  {
   "cell_type": "code",
   "execution_count": 111,
   "metadata": {},
   "outputs": [
    {
     "data": {
      "text/plain": [
       "95.23809523809523"
      ]
     },
     "execution_count": 111,
     "metadata": {},
     "output_type": "execute_result"
    }
   ],
   "source": [
    "sm_data2 = SequenceMatcher(None, \"WKQENGMWYFYNTDGSM ALG\",\"WKQENGMWYFYNTDGSM AIG\")\n",
    "sm_data2.ratio()*100"
   ]
  },
  {
   "cell_type": "code",
   "execution_count": 112,
   "metadata": {},
   "outputs": [
    {
     "data": {
      "text/plain": [
       "85.71428571428571"
      ]
     },
     "execution_count": 112,
     "metadata": {},
     "output_type": "execute_result"
    }
   ],
   "source": [
    "sm_data2_test2 = SequenceMatcher(None,li_padded2[2],li_padded2[12],)\n",
    "sm_data2_test2.ratio()*100"
   ]
  },
  {
   "cell_type": "code",
   "execution_count": 114,
   "metadata": {},
   "outputs": [
    {
     "data": {
      "text/plain": [
       "array([  7.5,  -1.5,   2.5,   0.5,   0.5,  -5.5,   4.5,   7.5,   8.5,\n",
       "         8.5,  -1.5,   0.5, -10.5,   0.5,  -5.5,   4.5,  -0.5,   0. ,\n",
       "       -10.5,   5.5,  -5.5])"
      ]
     },
     "execution_count": 114,
     "metadata": {},
     "output_type": "execute_result"
    }
   ],
   "source": [
    "li_padded2[1]"
   ]
  },
  {
   "cell_type": "code",
   "execution_count": 115,
   "metadata": {},
   "outputs": [
    {
     "data": {
      "text/plain": [
       "70.58823529411765"
      ]
     },
     "execution_count": 115,
     "metadata": {},
     "output_type": "execute_result"
    }
   ],
   "source": [
    "sm_data2 = SequenceMatcher(None, \"ADGSSASGESSVSGQSEASTSS\",\"ADSSSAGGQQQESSVSSQSDQASTSSQLG\")\n",
    "sm_data2.ratio()*100"
   ]
  },
  {
   "cell_type": "code",
   "execution_count": 118,
   "metadata": {},
   "outputs": [
    {
     "data": {
      "text/plain": [
       "95.23809523809523"
      ]
     },
     "execution_count": 118,
     "metadata": {},
     "output_type": "execute_result"
    }
   ],
   "source": [
    "sm_data2_test1 = SequenceMatcher(None,li_padded2[0],li_padded2[14],)\n",
    "sm_data2_test1.ratio()*100"
   ]
  },
  {
   "cell_type": "code",
   "execution_count": 119,
   "metadata": {},
   "outputs": [
    {
     "data": {
      "text/plain": [
       "98.36065573770492"
      ]
     },
     "execution_count": 119,
     "metadata": {},
     "output_type": "execute_result"
    }
   ],
   "source": [
    "# Actual data line1= WKQENGMWYFYNTDGSM ATG and line2 = WKQENGMWYFYNTDGSM AIG\n",
    "#line1 = \"6.5,0.5,-4.5,-5.5,-8.5,-3.5,1.5,6.5,7.5,2.5,7.5,-8.5,5.5,-7.5,-3.5,4.5,1.5,0,-10.5,5.5,-3.5\"\n",
    "#line2= \"6.5,0.5,-4.5,-5.5,-8.5,-3.5,1.5,6.5,7.5,2.5,7.5,-8.5,5.5,-7.5,-3.5,4.5,1.5,0,-10.5,-1.5,-3.5\"\n",
    "# >> 98.36065573770492\n",
    "\n",
    "line1 = \"6.5 0.5 -4.5 -5.5 -8.5 -3.5 1.5 6.5 7.5 2.5 7.5 -8.5 5.5 -7.5 -3.5 4.5 1.5 0 -10.5 5.5 -3.5\"\n",
    "line2 = \"6.5 0.5 -4.5 -5.5 -8.5 -3.5 1.5 6.5 7.5 2.5 7.5 -8.5 5.5 -7.5 -3.5 4.5 1.5 0 -10.5 -1.5 -3.5\"\n",
    "#>> 98.36065573770492\n",
    "sm_data2 = SequenceMatcher(None, line1,line2)\n",
    "sm_data2.ratio()*100"
   ]
  },
  {
   "cell_type": "code",
   "execution_count": 120,
   "metadata": {},
   "outputs": [
    {
     "data": {
      "text/plain": [
       "98.9247311827957"
      ]
     },
     "execution_count": 120,
     "metadata": {},
     "output_type": "execute_result"
    }
   ],
   "source": [
    "# chanegd ATG to ALG and compared to AIG\n",
    "line11 = \"6.5,0.5,-4.5,-5.5,-8.5,-3.5,1.5,6.5,7.5,2.5,7.5,-8.5,5.5,-7.5,-3.5,4.5,1.5,0.,-10.5,-0.5,-3.5\"\n",
    "line21= \"6.5,0.5,-4.5,-5.5,-8.5,-3.5,1.5,6.5,7.5,2.5,7.5,-8.5,5.5,-7.5,-3.5,4.5,1.5,0.,-10.5,-1.5,-3.5\"\n",
    "sm_data2 = SequenceMatcher(None, line11,line21)\n",
    "sm_data2.ratio()*100"
   ]
  },
  {
   "cell_type": "code",
   "execution_count": 121,
   "metadata": {},
   "outputs": [
    {
     "data": {
      "text/plain": [
       "95.23809523809523"
      ]
     },
     "execution_count": 121,
     "metadata": {},
     "output_type": "execute_result"
    }
   ],
   "source": [
    "#line 18 and 19\n",
    "#line18 = WLEYNGSWYYLNANGAM ATG\n",
    "#line19 = WLEYNGSWYYLNSNGAM ATG\n",
    "sm_data2_test3 = SequenceMatcher(None,li_padded2[18],li_padded2[19],)\n",
    "sm_data2_test3.ratio()*100\n"
   ]
  },
  {
   "cell_type": "code",
   "execution_count": 122,
   "metadata": {},
   "outputs": [
    {
     "data": {
      "text/plain": [
       "array([  7.5,  -2.5,   2.5,  -7.5,   0.5,  -5.5,  -0.5,   7.5,   8.5,\n",
       "        -6.5,   8.5,   0.5,   5.5,  -8.5,  -5.5,   4.5,  -0.5,   0. ,\n",
       "       -10.5,   5.5,  -5.5])"
      ]
     },
     "execution_count": 122,
     "metadata": {},
     "output_type": "execute_result"
    }
   ],
   "source": [
    "li_padded2[0]"
   ]
  },
  {
   "cell_type": "code",
   "execution_count": 123,
   "metadata": {},
   "outputs": [
    {
     "data": {
      "text/plain": [
       "array([  7.5,  -2.5,   2.5,  -7.5,   0.5,  -5.5,  -0.5,   7.5,   8.5,\n",
       "        -6.5,   8.5,   0.5,   5.5,  -8.5,  -5.5,   4.5,  -0.5,   0. ,\n",
       "       -10.5,  -3.5,  -5.5])"
      ]
     },
     "execution_count": 123,
     "metadata": {},
     "output_type": "execute_result"
    }
   ],
   "source": [
    "li_padded2[14]"
   ]
  },
  {
   "cell_type": "code",
   "execution_count": 124,
   "metadata": {},
   "outputs": [
    {
     "data": {
      "text/plain": [
       "97.91666666666666"
      ]
     },
     "execution_count": 124,
     "metadata": {},
     "output_type": "execute_result"
    }
   ],
   "source": [
    "# lines 18 and 19 in data 2\n",
    "line18 = \"6.5,-0.5,-5.5,7.5,-8.5,-3.5,4.5,6.5,7.5,7.5,-0.5,-8.5,-10.5,-8.5,-3.5,-10.5,1.5,0.,-10.5,5.5,-3.5\"\n",
    "line19 = \"6.5,-0.5,-5.5,7.5,-8.5,-3.5,4.5,6.5,7.5,7.5,-0.5,-8.5,4.5,-8.5,-3.5,-10.5,1.5,0.,-10.5,5.5,-3.5\"\n",
    "sm_data2 = SequenceMatcher(None, line18,line19)\n",
    "sm_data2.ratio()*100"
   ]
  },
  {
   "cell_type": "code",
   "execution_count": 126,
   "metadata": {},
   "outputs": [
    {
     "data": {
      "text/plain": [
       "93.81443298969072"
      ]
     },
     "execution_count": 126,
     "metadata": {},
     "output_type": "execute_result"
    }
   ],
   "source": [
    "#testing with 5 value changes\n",
    "line18 = \"-6.5,-1.5,-5.5,7.5,-8.5,-3.5,4.5,6.5,5.5,7.5,-0.5,-8.5,-10.5,-8.5,-3.5,-10.5,1.5,0.,-10.5,5.5,-10.5\"\n",
    "line19 = \"6.5,-0.5,-5.5,7.5,-8.5,-3.5,4.5,6.5,7.5,7.5,-0.5,-8.5,4.5,-8.5,-3.5,-10.5,1.5,0.,-10.5,5.5,-3.5\"\n",
    "sm_data2 = SequenceMatcher(None, line18,line19)\n",
    "sm_data2.ratio()*100"
   ]
  },
  {
   "cell_type": "code",
   "execution_count": null,
   "metadata": {},
   "outputs": [],
   "source": []
  }
 ],
 "metadata": {
  "kernelspec": {
   "display_name": "Python 3",
   "language": "python",
   "name": "python3"
  },
  "language_info": {
   "codemirror_mode": {
    "name": "ipython",
    "version": 3
   },
   "file_extension": ".py",
   "mimetype": "text/x-python",
   "name": "python",
   "nbconvert_exporter": "python",
   "pygments_lexer": "ipython3",
   "version": "3.6.5"
  }
 },
 "nbformat": 4,
 "nbformat_minor": 2
}
