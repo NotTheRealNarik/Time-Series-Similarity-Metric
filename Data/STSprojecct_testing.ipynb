{
 "cells": [
  {
   "cell_type": "code",
   "execution_count": 1,
   "metadata": {},
   "outputs": [],
   "source": [
    "import string\n",
    "import numpy as np\n",
    "import igraph\n",
    "import pandas as pd\n",
    "import csv\n",
    "import random\n",
    "import matplotlib.pyplot as plt\n",
    "#import sys\n",
    "#np.set_printoptions(threshold=sys.maxsize)\n"
   ]
  },
  {
   "cell_type": "code",
   "execution_count": 2,
   "metadata": {},
   "outputs": [],
   "source": [
    "#order = [\"A\", \"R\", \"N\", \"D\", \"C\", \"E\", \"Q\", \"G\", \"H\", \"I\", \"L\", \"K\", \"M\", \"F\", \"P\", \"S\", \"T\", \"W\", \"Y\", \"V\"] #RANDOM SAMPLE ORDERING, USE YOUR OWN\n",
    "order = [\"A\", \"C\", \"D\", \"E\", \"F\", \"G\", \"H\", \"I\", \"K\", \"L\", \"M\", \"N\", \"P\", \"Q\", \"R\", \"S\", \"T\", \"V\", \"W\", \"Y\"] #RANDOM SAMPLE ORDERING, USE YOUR OWN\n"
   ]
  },
  {
   "cell_type": "code",
   "execution_count": 3,
   "metadata": {},
   "outputs": [
    {
     "ename": "FileNotFoundError",
     "evalue": "[Errno 2] No such file or directory: 'data1.xls'",
     "output_type": "error",
     "traceback": [
      "\u001b[1;31m---------------------------------------------------------------------------\u001b[0m",
      "\u001b[1;31mFileNotFoundError\u001b[0m                         Traceback (most recent call last)",
      "\u001b[1;32m<ipython-input-3-0ad0b34001a8>\u001b[0m in \u001b[0;36m<module>\u001b[1;34m\u001b[0m\n\u001b[1;32m----> 1\u001b[1;33m \u001b[0mdata1\u001b[0m \u001b[1;33m=\u001b[0m \u001b[0mpd\u001b[0m\u001b[1;33m.\u001b[0m\u001b[0mread_excel\u001b[0m\u001b[1;33m(\u001b[0m\u001b[1;34m'data1.xls'\u001b[0m\u001b[1;33m)\u001b[0m\u001b[1;31m#this is the file with your protein sequence; this code assumes a single sequence.\u001b[0m\u001b[1;33m\u001b[0m\u001b[0m\n\u001b[0m\u001b[0;32m      2\u001b[0m \u001b[1;31m#data1csv = pd.read_csv('data1.csv')#this is the file with your protein sequence; this code assumes a single sequence.\u001b[0m\u001b[1;33m\u001b[0m\u001b[1;33m\u001b[0m\u001b[0m\n\u001b[0;32m      3\u001b[0m \u001b[0mdata1csv\u001b[0m \u001b[1;33m=\u001b[0m \u001b[0mpd\u001b[0m\u001b[1;33m.\u001b[0m\u001b[0mread_csv\u001b[0m\u001b[1;33m(\u001b[0m\u001b[1;34m'data1.csv'\u001b[0m\u001b[1;33m,\u001b[0m\u001b[0musecols\u001b[0m\u001b[1;33m=\u001b[0m\u001b[1;33m[\u001b[0m\u001b[1;36m1\u001b[0m\u001b[1;33m]\u001b[0m\u001b[1;33m)\u001b[0m\u001b[1;31m#this is the file with your protein sequence; this code assumes a single sequence.\u001b[0m\u001b[1;33m\u001b[0m\u001b[0m\n\u001b[0;32m      4\u001b[0m \u001b[1;31m#data2 = pd.read_excel('data2.xls')\u001b[0m\u001b[1;33m\u001b[0m\u001b[1;33m\u001b[0m\u001b[0m\n\u001b[0;32m      5\u001b[0m \u001b[0mdata1csv\u001b[0m\u001b[1;33m\u001b[0m\u001b[0m\n",
      "\u001b[1;32m~\\Anaconda3\\lib\\site-packages\\pandas\\util\\_decorators.py\u001b[0m in \u001b[0;36mwrapper\u001b[1;34m(*args, **kwargs)\u001b[0m\n\u001b[0;32m    175\u001b[0m                 \u001b[1;32melse\u001b[0m\u001b[1;33m:\u001b[0m\u001b[1;33m\u001b[0m\u001b[0m\n\u001b[0;32m    176\u001b[0m                     \u001b[0mkwargs\u001b[0m\u001b[1;33m[\u001b[0m\u001b[0mnew_arg_name\u001b[0m\u001b[1;33m]\u001b[0m \u001b[1;33m=\u001b[0m \u001b[0mnew_arg_value\u001b[0m\u001b[1;33m\u001b[0m\u001b[0m\n\u001b[1;32m--> 177\u001b[1;33m             \u001b[1;32mreturn\u001b[0m \u001b[0mfunc\u001b[0m\u001b[1;33m(\u001b[0m\u001b[1;33m*\u001b[0m\u001b[0margs\u001b[0m\u001b[1;33m,\u001b[0m \u001b[1;33m**\u001b[0m\u001b[0mkwargs\u001b[0m\u001b[1;33m)\u001b[0m\u001b[1;33m\u001b[0m\u001b[0m\n\u001b[0m\u001b[0;32m    178\u001b[0m         \u001b[1;32mreturn\u001b[0m \u001b[0mwrapper\u001b[0m\u001b[1;33m\u001b[0m\u001b[0m\n\u001b[0;32m    179\u001b[0m     \u001b[1;32mreturn\u001b[0m \u001b[0m_deprecate_kwarg\u001b[0m\u001b[1;33m\u001b[0m\u001b[0m\n",
      "\u001b[1;32m~\\Anaconda3\\lib\\site-packages\\pandas\\util\\_decorators.py\u001b[0m in \u001b[0;36mwrapper\u001b[1;34m(*args, **kwargs)\u001b[0m\n\u001b[0;32m    175\u001b[0m                 \u001b[1;32melse\u001b[0m\u001b[1;33m:\u001b[0m\u001b[1;33m\u001b[0m\u001b[0m\n\u001b[0;32m    176\u001b[0m                     \u001b[0mkwargs\u001b[0m\u001b[1;33m[\u001b[0m\u001b[0mnew_arg_name\u001b[0m\u001b[1;33m]\u001b[0m \u001b[1;33m=\u001b[0m \u001b[0mnew_arg_value\u001b[0m\u001b[1;33m\u001b[0m\u001b[0m\n\u001b[1;32m--> 177\u001b[1;33m             \u001b[1;32mreturn\u001b[0m \u001b[0mfunc\u001b[0m\u001b[1;33m(\u001b[0m\u001b[1;33m*\u001b[0m\u001b[0margs\u001b[0m\u001b[1;33m,\u001b[0m \u001b[1;33m**\u001b[0m\u001b[0mkwargs\u001b[0m\u001b[1;33m)\u001b[0m\u001b[1;33m\u001b[0m\u001b[0m\n\u001b[0m\u001b[0;32m    178\u001b[0m         \u001b[1;32mreturn\u001b[0m \u001b[0mwrapper\u001b[0m\u001b[1;33m\u001b[0m\u001b[0m\n\u001b[0;32m    179\u001b[0m     \u001b[1;32mreturn\u001b[0m \u001b[0m_deprecate_kwarg\u001b[0m\u001b[1;33m\u001b[0m\u001b[0m\n",
      "\u001b[1;32m~\\Anaconda3\\lib\\site-packages\\pandas\\io\\excel.py\u001b[0m in \u001b[0;36mread_excel\u001b[1;34m(io, sheet_name, header, names, index_col, usecols, squeeze, dtype, engine, converters, true_values, false_values, skiprows, nrows, na_values, parse_dates, date_parser, thousands, comment, skipfooter, convert_float, **kwds)\u001b[0m\n\u001b[0;32m    305\u001b[0m \u001b[1;33m\u001b[0m\u001b[0m\n\u001b[0;32m    306\u001b[0m     \u001b[1;32mif\u001b[0m \u001b[1;32mnot\u001b[0m \u001b[0misinstance\u001b[0m\u001b[1;33m(\u001b[0m\u001b[0mio\u001b[0m\u001b[1;33m,\u001b[0m \u001b[0mExcelFile\u001b[0m\u001b[1;33m)\u001b[0m\u001b[1;33m:\u001b[0m\u001b[1;33m\u001b[0m\u001b[0m\n\u001b[1;32m--> 307\u001b[1;33m         \u001b[0mio\u001b[0m \u001b[1;33m=\u001b[0m \u001b[0mExcelFile\u001b[0m\u001b[1;33m(\u001b[0m\u001b[0mio\u001b[0m\u001b[1;33m,\u001b[0m \u001b[0mengine\u001b[0m\u001b[1;33m=\u001b[0m\u001b[0mengine\u001b[0m\u001b[1;33m)\u001b[0m\u001b[1;33m\u001b[0m\u001b[0m\n\u001b[0m\u001b[0;32m    308\u001b[0m \u001b[1;33m\u001b[0m\u001b[0m\n\u001b[0;32m    309\u001b[0m     return io.parse(\n",
      "\u001b[1;32m~\\Anaconda3\\lib\\site-packages\\pandas\\io\\excel.py\u001b[0m in \u001b[0;36m__init__\u001b[1;34m(self, io, **kwds)\u001b[0m\n\u001b[0;32m    392\u001b[0m             \u001b[0mself\u001b[0m\u001b[1;33m.\u001b[0m\u001b[0mbook\u001b[0m \u001b[1;33m=\u001b[0m \u001b[0mxlrd\u001b[0m\u001b[1;33m.\u001b[0m\u001b[0mopen_workbook\u001b[0m\u001b[1;33m(\u001b[0m\u001b[0mfile_contents\u001b[0m\u001b[1;33m=\u001b[0m\u001b[0mdata\u001b[0m\u001b[1;33m)\u001b[0m\u001b[1;33m\u001b[0m\u001b[0m\n\u001b[0;32m    393\u001b[0m         \u001b[1;32melif\u001b[0m \u001b[0misinstance\u001b[0m\u001b[1;33m(\u001b[0m\u001b[0mself\u001b[0m\u001b[1;33m.\u001b[0m\u001b[0m_io\u001b[0m\u001b[1;33m,\u001b[0m \u001b[0mcompat\u001b[0m\u001b[1;33m.\u001b[0m\u001b[0mstring_types\u001b[0m\u001b[1;33m)\u001b[0m\u001b[1;33m:\u001b[0m\u001b[1;33m\u001b[0m\u001b[0m\n\u001b[1;32m--> 394\u001b[1;33m             \u001b[0mself\u001b[0m\u001b[1;33m.\u001b[0m\u001b[0mbook\u001b[0m \u001b[1;33m=\u001b[0m \u001b[0mxlrd\u001b[0m\u001b[1;33m.\u001b[0m\u001b[0mopen_workbook\u001b[0m\u001b[1;33m(\u001b[0m\u001b[0mself\u001b[0m\u001b[1;33m.\u001b[0m\u001b[0m_io\u001b[0m\u001b[1;33m)\u001b[0m\u001b[1;33m\u001b[0m\u001b[0m\n\u001b[0m\u001b[0;32m    395\u001b[0m         \u001b[1;32melse\u001b[0m\u001b[1;33m:\u001b[0m\u001b[1;33m\u001b[0m\u001b[0m\n\u001b[0;32m    396\u001b[0m             raise ValueError('Must explicitly set engine if not passing in'\n",
      "\u001b[1;32m~\\Anaconda3\\lib\\site-packages\\xlrd\\__init__.py\u001b[0m in \u001b[0;36mopen_workbook\u001b[1;34m(filename, logfile, verbosity, use_mmap, file_contents, encoding_override, formatting_info, on_demand, ragged_rows)\u001b[0m\n\u001b[0;32m    114\u001b[0m         \u001b[0mpeek\u001b[0m \u001b[1;33m=\u001b[0m \u001b[0mfile_contents\u001b[0m\u001b[1;33m[\u001b[0m\u001b[1;33m:\u001b[0m\u001b[0mpeeksz\u001b[0m\u001b[1;33m]\u001b[0m\u001b[1;33m\u001b[0m\u001b[0m\n\u001b[0;32m    115\u001b[0m     \u001b[1;32melse\u001b[0m\u001b[1;33m:\u001b[0m\u001b[1;33m\u001b[0m\u001b[0m\n\u001b[1;32m--> 116\u001b[1;33m         \u001b[1;32mwith\u001b[0m \u001b[0mopen\u001b[0m\u001b[1;33m(\u001b[0m\u001b[0mfilename\u001b[0m\u001b[1;33m,\u001b[0m \u001b[1;34m\"rb\"\u001b[0m\u001b[1;33m)\u001b[0m \u001b[1;32mas\u001b[0m \u001b[0mf\u001b[0m\u001b[1;33m:\u001b[0m\u001b[1;33m\u001b[0m\u001b[0m\n\u001b[0m\u001b[0;32m    117\u001b[0m             \u001b[0mpeek\u001b[0m \u001b[1;33m=\u001b[0m \u001b[0mf\u001b[0m\u001b[1;33m.\u001b[0m\u001b[0mread\u001b[0m\u001b[1;33m(\u001b[0m\u001b[0mpeeksz\u001b[0m\u001b[1;33m)\u001b[0m\u001b[1;33m\u001b[0m\u001b[0m\n\u001b[0;32m    118\u001b[0m     \u001b[1;32mif\u001b[0m \u001b[0mpeek\u001b[0m \u001b[1;33m==\u001b[0m \u001b[1;34mb\"PK\\x03\\x04\"\u001b[0m\u001b[1;33m:\u001b[0m \u001b[1;31m# a ZIP file\u001b[0m\u001b[1;33m\u001b[0m\u001b[0m\n",
      "\u001b[1;31mFileNotFoundError\u001b[0m: [Errno 2] No such file or directory: 'data1.xls'"
     ]
    }
   ],
   "source": [
    "data1 = pd.read_excel('data1.xls')#this is the file with your protein sequence; this code assumes a single sequence.\n",
    "#data1csv = pd.read_csv('data1.csv')#this is the file with your protein sequence; this code assumes a single sequence.\n",
    "data1csv = pd.read_csv('data1.csv',usecols=[1])#this is the file with your protein sequence; this code assumes a single sequence.\n",
    "#data2 = pd.read_excel('data2.xls')\n",
    "data1csv\n",
    "#data1['Unnamed: 1']"
   ]
  },
  {
   "cell_type": "code",
   "execution_count": 4,
   "metadata": {},
   "outputs": [],
   "source": [
    "data1csv = pd.read_csv('data1.csv',usecols=[1])#this is the file with your protein sequence; this code assumes a single sequence.\n"
   ]
  },
  {
   "cell_type": "code",
   "execution_count": 5,
   "metadata": {},
   "outputs": [
    {
     "data": {
      "text/plain": [
       "dict"
      ]
     },
     "execution_count": 5,
     "metadata": {},
     "output_type": "execute_result"
    }
   ],
   "source": [
    "vals= {' ':0} #assign an incremement or decrement to each alphabet letter\n",
    "id=-((len(order)+1)/2)\n",
    "\n",
    "\n",
    "type(vals)"
   ]
  },
  {
   "cell_type": "code",
   "execution_count": 6,
   "metadata": {},
   "outputs": [
    {
     "name": "stdout",
     "output_type": "stream",
     "text": [
      "-10.5\n",
      "-9.5\n",
      "-8.5\n",
      "-7.5\n",
      "-6.5\n",
      "-5.5\n",
      "-4.5\n",
      "-3.5\n",
      "-2.5\n",
      "-1.5\n",
      "-0.5\n",
      "0.5\n",
      "1.5\n",
      "2.5\n",
      "3.5\n",
      "4.5\n",
      "5.5\n",
      "6.5\n",
      "7.5\n",
      "8.5\n"
     ]
    },
    {
     "data": {
      "text/plain": [
       "{' ': 0,\n",
       " 'A': -10.5,\n",
       " 'C': -9.5,\n",
       " 'D': -8.5,\n",
       " 'E': -7.5,\n",
       " 'F': -6.5,\n",
       " 'G': -5.5,\n",
       " 'H': -4.5,\n",
       " 'I': -3.5,\n",
       " 'K': -2.5,\n",
       " 'L': -1.5,\n",
       " 'M': -0.5,\n",
       " 'N': 0.5,\n",
       " 'P': 1.5,\n",
       " 'Q': 2.5,\n",
       " 'R': 3.5,\n",
       " 'S': 4.5,\n",
       " 'T': 5.5,\n",
       " 'V': 6.5,\n",
       " 'W': 7.5,\n",
       " 'Y': 8.5}"
      ]
     },
     "execution_count": 6,
     "metadata": {},
     "output_type": "execute_result"
    }
   ],
   "source": [
    "\n",
    "for i in order:    \n",
    "    if id == 0:\n",
    "        print (\"entered this loop\")\n",
    "        vals[\" \"]=id\n",
    "        print (\"sdfjk\",vals)\n",
    "        id+=1\n",
    "        print(\"exiting\")\n",
    "    vals[i]=id\n",
    "    print (id)\n",
    "    id+=1\n",
    "vals\n"
   ]
  },
  {
   "cell_type": "code",
   "execution_count": null,
   "metadata": {},
   "outputs": [],
   "source": []
  },
  {
   "cell_type": "code",
   "execution_count": null,
   "metadata": {
    "scrolled": true
   },
   "outputs": [],
   "source": []
  },
  {
   "cell_type": "code",
   "execution_count": null,
   "metadata": {},
   "outputs": [],
   "source": []
  },
  {
   "cell_type": "code",
   "execution_count": null,
   "metadata": {},
   "outputs": [],
   "source": []
  },
  {
   "cell_type": "code",
   "execution_count": null,
   "metadata": {},
   "outputs": [],
   "source": []
  },
  {
   "cell_type": "code",
   "execution_count": null,
   "metadata": {},
   "outputs": [],
   "source": []
  },
  {
   "cell_type": "code",
   "execution_count": null,
   "metadata": {},
   "outputs": [],
   "source": []
  },
  {
   "cell_type": "code",
   "execution_count": null,
   "metadata": {},
   "outputs": [],
   "source": []
  },
  {
   "cell_type": "code",
   "execution_count": null,
   "metadata": {},
   "outputs": [],
   "source": []
  },
  {
   "cell_type": "code",
   "execution_count": null,
   "metadata": {},
   "outputs": [],
   "source": []
  },
  {
   "cell_type": "code",
   "execution_count": null,
   "metadata": {},
   "outputs": [],
   "source": []
  },
  {
   "cell_type": "code",
   "execution_count": null,
   "metadata": {},
   "outputs": [],
   "source": []
  },
  {
   "cell_type": "code",
   "execution_count": null,
   "metadata": {},
   "outputs": [],
   "source": []
  },
  {
   "cell_type": "code",
   "execution_count": null,
   "metadata": {},
   "outputs": [],
   "source": []
  },
  {
   "cell_type": "code",
   "execution_count": null,
   "metadata": {
    "scrolled": true
   },
   "outputs": [],
   "source": [
    "         \n",
    "\n",
    "\n",
    "                "
   ]
  },
  {
   "cell_type": "code",
   "execution_count": 7,
   "metadata": {},
   "outputs": [
    {
     "ename": "NameError",
     "evalue": "name 'row' is not defined",
     "output_type": "error",
     "traceback": [
      "\u001b[1;31m---------------------------------------------------------------------------\u001b[0m",
      "\u001b[1;31mNameError\u001b[0m                                 Traceback (most recent call last)",
      "\u001b[1;32m<ipython-input-7-8442c730e2dd>\u001b[0m in \u001b[0;36m<module>\u001b[1;34m\u001b[0m\n\u001b[0;32m      8\u001b[0m \u001b[0ma\u001b[0m \u001b[1;33m=\u001b[0m \u001b[1;33m[\u001b[0m\u001b[1;33m]\u001b[0m\u001b[1;33m\u001b[0m\u001b[0m\n\u001b[0;32m      9\u001b[0m \u001b[1;32mwith\u001b[0m \u001b[0mopen\u001b[0m\u001b[1;33m(\u001b[0m\u001b[1;34m'data1_Main_TimeSeries.csv'\u001b[0m\u001b[1;33m,\u001b[0m\u001b[1;34m'w'\u001b[0m\u001b[1;33m,\u001b[0m\u001b[0mnewline\u001b[0m\u001b[1;33m=\u001b[0m\u001b[1;34m''\u001b[0m\u001b[1;33m)\u001b[0m \u001b[1;32mas\u001b[0m \u001b[0mcf\u001b[0m\u001b[1;33m:\u001b[0m  \u001b[1;31m#newline='' lets us write without adding an extra line betweeen rows\u001b[0m\u001b[1;33m\u001b[0m\u001b[0m\n\u001b[1;32m---> 10\u001b[1;33m     \u001b[1;32mfor\u001b[0m \u001b[0mrow\u001b[0m\u001b[1;33m[\u001b[0m\u001b[1;36m1\u001b[0m\u001b[1;33m]\u001b[0m \u001b[1;32min\u001b[0m \u001b[0mcsv_f\u001b[0m\u001b[1;33m:\u001b[0m\u001b[1;33m\u001b[0m\u001b[0m\n\u001b[0m\u001b[0;32m     11\u001b[0m         \u001b[0mprint\u001b[0m \u001b[1;33m(\u001b[0m\u001b[0mrow\u001b[0m\u001b[1;33m[\u001b[0m\u001b[1;36m1\u001b[0m\u001b[1;33m]\u001b[0m\u001b[1;33m)\u001b[0m\u001b[1;33m\u001b[0m\u001b[0m\n\u001b[0;32m     12\u001b[0m         \u001b[1;32mfor\u001b[0m \u001b[0mcol\u001b[0m \u001b[1;32min\u001b[0m \u001b[0mcsv_f\u001b[0m\u001b[1;33m:\u001b[0m\u001b[1;33m\u001b[0m\u001b[0m\n",
      "\u001b[1;31mNameError\u001b[0m: name 'row' is not defined"
     ]
    }
   ],
   "source": [
    "#DATA 1\n",
    "#using normal array methods\n",
    "#WORKING \n",
    "\n",
    "f = open('data1.csv')\n",
    "csv_f = csv.reader(f)\n",
    "\n",
    "a = []\n",
    "with open('data1_Main_TimeSeries.csv','w',newline='') as cf:  #newline='' lets us write without adding an extra line betweeen rows\n",
    "    for row[1] in csv_f:\n",
    "        print (row[1])\n",
    "        for col in csv_f:\n",
    "                print (col[1])\n",
    "                d = []\n",
    "                \n",
    "                for x in col[1]:\n",
    "                    print (x)\n",
    "                    c = vals[x]\n",
    "                    a =d.append(c)\n",
    "                print (d)\n",
    "                wr = csv.writer(cf,lineterminator='\\r')\n",
    "                wr.writerow(d)"
   ]
  },
  {
   "cell_type": "code",
   "execution_count": 99,
   "metadata": {},
   "outputs": [
    {
     "name": "stdout",
     "output_type": "stream",
     "text": [
      "['ID', 'Sequence']\n",
      "WKQENGMWYFYNTDGSM ATG\n",
      "W\n",
      "K\n",
      "Q\n",
      "E\n",
      "N\n",
      "G\n",
      "M\n",
      "W\n",
      "Y\n",
      "F\n",
      "Y\n",
      "N\n",
      "T\n",
      "D\n",
      "G\n",
      "S\n",
      "M\n",
      " \n",
      "A\n",
      "T\n",
      "G\n",
      "[7.5, -2.5, 2.5, -7.5, 0.5, -5.5, -0.5, 7.5, 8.5, -6.5, 8.5, 0.5, 5.5, -8.5, -5.5, 4.5, -0.5, 0, -10.5, 5.5, -5.5]\n",
      "WLQNNGSWYYLNANGSM ATG\n",
      "W\n",
      "L\n",
      "Q\n",
      "N\n",
      "N\n",
      "G\n",
      "S\n",
      "W\n",
      "Y\n",
      "Y\n",
      "L\n",
      "N\n",
      "A\n",
      "N\n",
      "G\n",
      "S\n",
      "M\n",
      " \n",
      "A\n",
      "T\n",
      "G\n",
      "[7.5, -1.5, 2.5, 0.5, 0.5, -5.5, 4.5, 7.5, 8.5, 8.5, -1.5, 0.5, -10.5, 0.5, -5.5, 4.5, -0.5, 0, -10.5, 5.5, -5.5]\n",
      "WVKDGDTWYYLEASGAMKASQ\n",
      "W\n",
      "V\n",
      "K\n",
      "D\n",
      "G\n",
      "D\n",
      "T\n",
      "W\n",
      "Y\n",
      "Y\n",
      "L\n",
      "E\n",
      "A\n",
      "S\n",
      "G\n",
      "A\n",
      "M\n",
      "K\n",
      "A\n",
      "S\n",
      "Q\n",
      "[7.5, 6.5, -2.5, -8.5, -5.5, -8.5, 5.5, 7.5, 8.5, 8.5, -1.5, -7.5, -10.5, 4.5, -5.5, -10.5, -0.5, -2.5, -10.5, 4.5, 2.5]\n",
      "WFKVSDKWYYVNSNGAM ATG\n",
      "W\n",
      "F\n",
      "K\n",
      "V\n",
      "S\n",
      "D\n",
      "K\n",
      "W\n",
      "Y\n",
      "Y\n",
      "V\n",
      "N\n",
      "S\n",
      "N\n",
      "G\n",
      "A\n",
      "M\n",
      " \n",
      "A\n",
      "T\n",
      "G\n",
      "[7.5, -6.5, -2.5, 6.5, 4.5, -8.5, -2.5, 7.5, 8.5, 8.5, 6.5, 0.5, 4.5, 0.5, -5.5, -10.5, -0.5, 0, -10.5, 5.5, -5.5]\n",
      "WLQYNGSWYYLNSNGAM ATG\n",
      "W\n",
      "L\n",
      "Q\n",
      "Y\n",
      "N\n",
      "G\n",
      "S\n",
      "W\n",
      "Y\n",
      "Y\n",
      "L\n",
      "N\n",
      "S\n",
      "N\n",
      "G\n",
      "A\n",
      "M\n",
      " \n",
      "A\n",
      "T\n",
      "G\n",
      "[7.5, -1.5, 2.5, 8.5, 0.5, -5.5, 4.5, 7.5, 8.5, 8.5, -1.5, 0.5, 4.5, 0.5, -5.5, -10.5, -0.5, 0, -10.5, 5.5, -5.5]\n",
      "WAKVNGSWYYLNANGSM ATG\n",
      "W\n",
      "A\n",
      "K\n",
      "V\n",
      "N\n",
      "G\n",
      "S\n",
      "W\n",
      "Y\n",
      "Y\n",
      "L\n",
      "N\n",
      "A\n",
      "N\n",
      "G\n",
      "S\n",
      "M\n",
      " \n",
      "A\n",
      "T\n",
      "G\n",
      "[7.5, -10.5, -2.5, 6.5, 0.5, -5.5, 4.5, 7.5, 8.5, 8.5, -1.5, 0.5, -10.5, 0.5, -5.5, 4.5, -0.5, 0, -10.5, 5.5, -5.5]\n",
      "WFKVSDKWYYVNGLGAL AVN\n",
      "W\n",
      "F\n",
      "K\n",
      "V\n",
      "S\n",
      "D\n",
      "K\n",
      "W\n",
      "Y\n",
      "Y\n",
      "V\n",
      "N\n",
      "G\n",
      "L\n",
      "G\n",
      "A\n",
      "L\n",
      " \n",
      "A\n",
      "V\n",
      "N\n",
      "[7.5, -6.5, -2.5, 6.5, 4.5, -8.5, -2.5, 7.5, 8.5, 8.5, 6.5, 0.5, -5.5, -1.5, -5.5, -10.5, -1.5, 0, -10.5, 6.5, 0.5]\n",
      "WLQNNGSWYYLNSNGAM ATG\n",
      "W\n",
      "L\n",
      "Q\n",
      "N\n",
      "N\n",
      "G\n",
      "S\n",
      "W\n",
      "Y\n",
      "Y\n",
      "L\n",
      "N\n",
      "S\n",
      "N\n",
      "G\n",
      "A\n",
      "M\n",
      " \n",
      "A\n",
      "T\n",
      "G\n",
      "[7.5, -1.5, 2.5, 0.5, 0.5, -5.5, 4.5, 7.5, 8.5, 8.5, -1.5, 0.5, 4.5, 0.5, -5.5, -10.5, -0.5, 0, -10.5, 5.5, -5.5]\n",
      "WLQYNGSWYYLNANGAM ATG\n",
      "W\n",
      "L\n",
      "Q\n",
      "Y\n",
      "N\n",
      "G\n",
      "S\n",
      "W\n",
      "Y\n",
      "Y\n",
      "L\n",
      "N\n",
      "A\n",
      "N\n",
      "G\n",
      "A\n",
      "M\n",
      " \n",
      "A\n",
      "T\n",
      "G\n",
      "[7.5, -1.5, 2.5, 8.5, 0.5, -5.5, 4.5, 7.5, 8.5, 8.5, -1.5, 0.5, -10.5, 0.5, -5.5, -10.5, -0.5, 0, -10.5, 5.5, -5.5]\n",
      "WAKVNGSWYYLNANGAM ATG\n",
      "W\n",
      "A\n",
      "K\n",
      "V\n",
      "N\n",
      "G\n",
      "S\n",
      "W\n",
      "Y\n",
      "Y\n",
      "L\n",
      "N\n",
      "A\n",
      "N\n",
      "G\n",
      "A\n",
      "M\n",
      " \n",
      "A\n",
      "T\n",
      "G\n",
      "[7.5, -10.5, -2.5, 6.5, 0.5, -5.5, 4.5, 7.5, 8.5, 8.5, -1.5, 0.5, -10.5, 0.5, -5.5, -10.5, -0.5, 0, -10.5, 5.5, -5.5]\n",
      "WLQYNGSWYYLNANGDM ATG\n",
      "W\n",
      "L\n",
      "Q\n",
      "Y\n",
      "N\n",
      "G\n",
      "S\n",
      "W\n",
      "Y\n",
      "Y\n",
      "L\n",
      "N\n",
      "A\n",
      "N\n",
      "G\n",
      "D\n",
      "M\n",
      " \n",
      "A\n",
      "T\n",
      "G\n",
      "[7.5, -1.5, 2.5, 8.5, 0.5, -5.5, 4.5, 7.5, 8.5, 8.5, -1.5, 0.5, -10.5, 0.5, -5.5, -8.5, -0.5, 0, -10.5, 5.5, -5.5]\n",
      "WAKVHGSWYYLNANGSM ATG\n",
      "W\n",
      "A\n",
      "K\n",
      "V\n",
      "H\n",
      "G\n",
      "S\n",
      "W\n",
      "Y\n",
      "Y\n",
      "L\n",
      "N\n",
      "A\n",
      "N\n",
      "G\n",
      "S\n",
      "M\n",
      " \n",
      "A\n",
      "T\n",
      "G\n",
      "[7.5, -10.5, -2.5, 6.5, -4.5, -5.5, 4.5, 7.5, 8.5, 8.5, -1.5, 0.5, -10.5, 0.5, -5.5, 4.5, -0.5, 0, -10.5, 5.5, -5.5]\n",
      "WVKDGETWYYLEASGSMKANQ\n",
      "W\n",
      "V\n",
      "K\n",
      "D\n",
      "G\n",
      "E\n",
      "T\n",
      "W\n",
      "Y\n",
      "Y\n",
      "L\n",
      "E\n",
      "A\n",
      "S\n",
      "G\n",
      "S\n",
      "M\n",
      "K\n",
      "A\n",
      "N\n",
      "Q\n",
      "[7.5, 6.5, -2.5, -8.5, -5.5, -7.5, 5.5, 7.5, 8.5, 8.5, -1.5, -7.5, -10.5, 4.5, -5.5, 4.5, -0.5, -2.5, -10.5, 0.5, 2.5]\n",
      "WFQVSDKWYYVNGLGSL SVN\n",
      "W\n",
      "F\n",
      "Q\n",
      "V\n",
      "S\n",
      "D\n",
      "K\n",
      "W\n",
      "Y\n",
      "Y\n",
      "V\n",
      "N\n",
      "G\n",
      "L\n",
      "G\n",
      "S\n",
      "L\n",
      " \n",
      "S\n",
      "V\n",
      "N\n",
      "[7.5, -6.5, 2.5, 6.5, 4.5, -8.5, -2.5, 7.5, 8.5, 8.5, 6.5, 0.5, -5.5, -1.5, -5.5, 4.5, -1.5, 0, 4.5, 6.5, 0.5]\n",
      "WKQENGMWYFYNTDGSM AIG\n",
      "W\n",
      "K\n",
      "Q\n",
      "E\n",
      "N\n",
      "G\n",
      "M\n",
      "W\n",
      "Y\n",
      "F\n",
      "Y\n",
      "N\n",
      "T\n",
      "D\n",
      "G\n",
      "S\n",
      "M\n",
      " \n",
      "A\n",
      "I\n",
      "G\n",
      "[7.5, -2.5, 2.5, -7.5, 0.5, -5.5, -0.5, 7.5, 8.5, -6.5, 8.5, 0.5, 5.5, -8.5, -5.5, 4.5, -0.5, 0, -10.5, -3.5, -5.5]\n",
      "WLQNNGSWYYLNANGAM ATG\n",
      "W\n",
      "L\n",
      "Q\n",
      "N\n",
      "N\n",
      "G\n",
      "S\n",
      "W\n",
      "Y\n",
      "Y\n",
      "L\n",
      "N\n",
      "A\n",
      "N\n",
      "G\n",
      "A\n",
      "M\n",
      " \n",
      "A\n",
      "T\n",
      "G\n",
      "[7.5, -1.5, 2.5, 0.5, 0.5, -5.5, 4.5, 7.5, 8.5, 8.5, -1.5, 0.5, -10.5, 0.5, -5.5, -10.5, -0.5, 0, -10.5, 5.5, -5.5]\n",
      "WAKVNGLWYYLNSNGAM ATG\n",
      "W\n",
      "A\n",
      "K\n",
      "V\n",
      "N\n",
      "G\n",
      "L\n",
      "W\n",
      "Y\n",
      "Y\n",
      "L\n",
      "N\n",
      "S\n",
      "N\n",
      "G\n",
      "A\n",
      "M\n",
      " \n",
      "A\n",
      "T\n",
      "G\n",
      "[7.5, -10.5, -2.5, 6.5, 0.5, -5.5, -1.5, 7.5, 8.5, 8.5, -1.5, 0.5, 4.5, 0.5, -5.5, -10.5, -0.5, 0, -10.5, 5.5, -5.5]\n",
      "WLQYNDSWYYLNTNGAM ATG\n",
      "W\n",
      "L\n",
      "Q\n",
      "Y\n",
      "N\n",
      "D\n",
      "S\n",
      "W\n",
      "Y\n",
      "Y\n",
      "L\n",
      "N\n",
      "T\n",
      "N\n",
      "G\n",
      "A\n",
      "M\n",
      " \n",
      "A\n",
      "T\n",
      "G\n",
      "[7.5, -1.5, 2.5, 8.5, 0.5, -8.5, 4.5, 7.5, 8.5, 8.5, -1.5, 0.5, 5.5, 0.5, -5.5, -10.5, -0.5, 0, -10.5, 5.5, -5.5]\n",
      "WLEYNGSWYYLNANGAM ATG\n",
      "W\n",
      "L\n",
      "E\n",
      "Y\n",
      "N\n",
      "G\n",
      "S\n",
      "W\n",
      "Y\n",
      "Y\n",
      "L\n",
      "N\n",
      "A\n",
      "N\n",
      "G\n",
      "A\n",
      "M\n",
      " \n",
      "A\n",
      "T\n",
      "G\n",
      "[7.5, -1.5, -7.5, 8.5, 0.5, -5.5, 4.5, 7.5, 8.5, 8.5, -1.5, 0.5, -10.5, 0.5, -5.5, -10.5, -0.5, 0, -10.5, 5.5, -5.5]\n",
      "WLEYNGSWYYLNSNGAM ATG\n",
      "W\n",
      "L\n",
      "E\n",
      "Y\n",
      "N\n",
      "G\n",
      "S\n",
      "W\n",
      "Y\n",
      "Y\n",
      "L\n",
      "N\n",
      "S\n",
      "N\n",
      "G\n",
      "A\n",
      "M\n",
      " \n",
      "A\n",
      "T\n",
      "G\n",
      "[7.5, -1.5, -7.5, 8.5, 0.5, -5.5, 4.5, 7.5, 8.5, 8.5, -1.5, 0.5, 4.5, 0.5, -5.5, -10.5, -0.5, 0, -10.5, 5.5, -5.5]\n",
      "WVKDGDTWYYLEASGAMKANQ\n",
      "W\n",
      "V\n",
      "K\n",
      "D\n",
      "G\n",
      "D\n",
      "T\n",
      "W\n",
      "Y\n",
      "Y\n",
      "L\n",
      "E\n",
      "A\n",
      "S\n",
      "G\n",
      "A\n",
      "M\n",
      "K\n",
      "A\n",
      "N\n",
      "Q\n",
      "[7.5, 6.5, -2.5, -8.5, -5.5, -8.5, 5.5, 7.5, 8.5, 8.5, -1.5, -7.5, -10.5, 4.5, -5.5, -10.5, -0.5, -2.5, -10.5, 0.5, 2.5]\n"
     ]
    }
   ],
   "source": [
    "# DATA 2\n",
    "#using normal array methods\n",
    "#WORKING \n",
    "\n",
    "f = open('data2.csv')\n",
    "csv_f = csv.reader(f)\n",
    "\n",
    "a = []\n",
    "with open('data2_Main_timeSeries.csv','w',newline='') as cf:  #newline='' lets us write without adding an extra line betweeen rows\n",
    "    for row[1] in csv_f:\n",
    "        print (row[1])\n",
    "        for col in csv_f:\n",
    "                print (col[1])\n",
    "                d = []\n",
    "                \n",
    "                for x in col[1]:\n",
    "                    print (x)\n",
    "                    c = vals[x]\n",
    "                    a =d.append(c)\n",
    "                print (d)\n",
    "                wr = csv.writer(cf)\n",
    "                wr.writerow(d)                          \n"
   ]
  },
  {
   "cell_type": "markdown",
   "metadata": {},
   "source": [
    "\n",
    "ax = np.array = [325314642652,6,5,4,7,624,7,5,747474,27,5,7,5,7,4,7,4,7,47,5,7,5,7,2,7,4,7,5,7,7,4,7,2,4]\n",
    "ay = np.array = [325314642652,6,5,4,7,624,7,5,747474,27,5,7,5,7,4,7,4,7,47,5,7,5,7,2,7,4,7,5,7,7,4,7,2,4]\n",
    "\n",
    "d = np.append(ax,ay)\n",
    "\n",
    "\n",
    "print (d)"
   ]
  },
  {
   "cell_type": "code",
   "execution_count": null,
   "metadata": {},
   "outputs": [],
   "source": []
  },
  {
   "cell_type": "code",
   "execution_count": null,
   "metadata": {},
   "outputs": [],
   "source": []
  },
  {
   "cell_type": "code",
   "execution_count": 100,
   "metadata": {},
   "outputs": [],
   "source": [
    "#data1TS[30][1] checking the NaN values\n",
    "#data2TS"
   ]
  },
  {
   "cell_type": "code",
   "execution_count": 101,
   "metadata": {},
   "outputs": [],
   "source": [
    "#data2TS.iloc[0]  #printing row\n",
    "#data1TS[30][1]"
   ]
  },
  {
   "cell_type": "code",
   "execution_count": null,
   "metadata": {},
   "outputs": [],
   "source": []
  },
  {
   "cell_type": "code",
   "execution_count": 102,
   "metadata": {},
   "outputs": [
    {
     "name": "stdout",
     "output_type": "stream",
     "text": [
      "31\n"
     ]
    }
   ],
   "source": [
    "#placing all the values in one list\n",
    "\n",
    "length = 0\n",
    "mlist = []\n",
    "for line in open(\"data1_Main_timeSeries.csv\"):\n",
    "        reader_file = csv.reader(open(\"data1_Main_timeSeries.csv\"))\n",
    "        length_of_file = len(list(reader_file))\n",
    "        x = line.split(',')\n",
    "        y = []\n",
    "        for i in range(len(x)):\n",
    "            y.append(float(x[i]))\n",
    "            mlist.append(float(x[i]))\n",
    "        #mlist.append(y)\n",
    "        length = max(length, len(y))\n",
    "\n",
    "\n",
    "print(length)"
   ]
  },
  {
   "cell_type": "code",
   "execution_count": null,
   "metadata": {},
   "outputs": [],
   "source": []
  },
  {
   "cell_type": "code",
   "execution_count": null,
   "metadata": {
    "scrolled": true
   },
   "outputs": [],
   "source": [
    "\n"
   ]
  },
  {
   "cell_type": "code",
   "execution_count": 103,
   "metadata": {
    "scrolled": false
   },
   "outputs": [
    {
     "data": {
      "text/plain": [
       "(-50, 50)"
      ]
     },
     "execution_count": 103,
     "metadata": {},
     "output_type": "execute_result"
    },
    {
     "data": {
      "image/png": "[encoded data removed]",
      "text/plain": [
       "<Figure size 432x288 with 1 Axes>"
      ]
     },
     "metadata": {
      "needs_background": "light"
     },
     "output_type": "display_data"
    }
   ],
   "source": [
    "plt.plot(mlist[:28]) #first sequence\n",
    "plt.plot(mlist[28:57]) # second sequence \n",
    "plt.ylim(-50, 50)"
   ]
  },
  {
   "cell_type": "code",
   "execution_count": 104,
   "metadata": {
    "scrolled": false
   },
   "outputs": [
    {
     "name": "stdout",
     "output_type": "stream",
     "text": [
      "[-10.5, -8.5, 4.5, 4.5, 4.5, -10.5, -5.5, -5.5, 2.5, 2.5, 2.5, -7.5, 4.5, 4.5, 6.5, 4.5, 4.5, 2.5, 4.5, -8.5, 2.5, -10.5, 4.5, 5.5, 4.5, 4.5, 2.5, -1.5, -5.5]\n",
      "\n",
      "\n",
      "[-10.5, -8.5, 4.5, 4.5, 4.5, -10.5, -5.5, -5.5, 2.5, 2.5, 2.5, -7.5, 4.5, 4.5, 6.5, 4.5, 4.5, 2.5, 4.5, -5.5, 2.5, -10.5, 4.5, 5.5, 4.5, 4.5, 2.5, -1.5, -5.5]\n"
     ]
    }
   ],
   "source": [
    "#placing the values in a 2D list \n",
    "# can create an array of lists by np.array(mlist1)\n",
    "\n",
    "length = 0\n",
    "current_length = 0\n",
    "mlist1 = []\n",
    "for line in open(\"data1_Main_timeSeries.csv\"):\n",
    "        reader_file = csv.reader(open(\"data1_Main_timeSeries.csv\"))\n",
    "        length_of_file = len(list(reader_file))\n",
    "        x = line.split(',')\n",
    "        y = []\n",
    "        for i in range(len(x)):\n",
    "            y.append(float(x[i]))\n",
    "            \n",
    "            #mlist.append(float(x[i]))\n",
    "        mlist1.append(y)\n",
    "        length = max(length, len(y))\n",
    "        arr = np.asarray(mlist1)\n",
    "\n",
    "        \n",
    "print(arr[1])\n",
    "print(\"\\n\")        \n",
    "print(arr[2])\n",
    "#print(type(mlist1[0][4]))\n",
    "#print (type(arr[0]))\n",
    "#print (type(arr[0][1]))\n",
    "#print (len(arr))\n",
    "#print (arr[1])"
   ]
  },
  {
   "cell_type": "code",
   "execution_count": 105,
   "metadata": {},
   "outputs": [
    {
     "data": {
      "text/plain": [
       "29"
      ]
     },
     "execution_count": 105,
     "metadata": {},
     "output_type": "execute_result"
    }
   ],
   "source": [
    "len(mlist1[1])"
   ]
  },
  {
   "cell_type": "code",
   "execution_count": 106,
   "metadata": {},
   "outputs": [
    {
     "name": "stdout",
     "output_type": "stream",
     "text": [
      "[ -8.5  -8.5   4.5   4.5   4.5 -10.5   4.5  -5.5   2.5   2.5   2.5  -7.5\n",
      "   4.5   4.5   6.5   4.5   4.5   2.5   4.5  -7.5 -10.5   4.5   5.5   4.5\n",
      "   4.5   2.5  -1.5  -5.5   0.    0.    0.  -10.5  -8.5   4.5   4.5   4.5\n",
      " -10.5  -5.5  -5.5   2.5   2.5   2.5  -7.5   4.5   4.5   6.5   4.5   4.5\n",
      "   2.5   4.5  -8.5   2.5 -10.5   4.5   5.5   4.5   4.5   2.5  -1.5  -5.5\n",
      "   0.    0.  -10.5  -8.5   4.5   4.5   4.5 -10.5  -5.5  -5.5   2.5   2.5\n",
      "   2.5  -7.5   4.5   4.5   6.5   4.5   4.5   2.5   4.5  -5.5   2.5 -10.5\n",
      "   4.5   5.5   4.5   4.5   2.5  -1.5  -5.5   0.    0. ]\n",
      "31\n"
     ]
    }
   ],
   "source": [
    "#padding 0s at the end of the arrays\n",
    "arr_of_arr= []\n",
    "\n",
    "for i in range(0,len(arr)):\n",
    "    abc = np.array(mlist1[i])\n",
    "    a_padded = np.pad(abc,(0,31-len(mlist1[i])),'constant')\n",
    "    arr_of_arr = np.append(arr_of_arr,a_padded,axis = 0) # contains a 1D array with all the values.\n",
    "\n",
    "\n",
    "print (arr_of_arr[0:length*3]) # first 3 sequences\n",
    "print(len(a_padded))\n"
   ]
  },
  {
   "cell_type": "code",
   "execution_count": 107,
   "metadata": {},
   "outputs": [
    {
     "name": "stdout",
     "output_type": "stream",
     "text": [
      "[ -8.5  -8.5   4.5   4.5   4.5 -10.5   4.5  -5.5   2.5   2.5   2.5  -7.5\n",
      "   4.5   4.5   6.5   4.5   4.5   2.5   4.5  -7.5 -10.5   4.5   5.5   4.5\n",
      "   4.5   2.5  -1.5  -5.5   0.    0.    0. ]\n"
     ]
    }
   ],
   "source": [
    "#appending the padded array into a list\n",
    "arr_of_arr= []\n",
    "li_padded = []\n",
    "for i in range(0,len(arr)):\n",
    "    abc = np.array(mlist1[i])\n",
    "    a_padded = np.pad(abc,(0,31-len(mlist1[i])),'constant')\n",
    "    #a_stack = np.stack(a_padded, axis=0)\n",
    "    #arr_of_arr = np.append(arr_of_arr,a_padded,axis = 0) # contains a 1D array with all the values.\n",
    "    #ar_splited = np.split(arr_of_arr,[length]*i)\n",
    "    li_padded.append(a_padded)\n",
    "\n",
    "    \n",
    "print ((li_padded[0]))    \n",
    "#print (arr_of_arr[0:length+length])\n",
    "#print(len(a_padded))"
   ]
  },
  {
   "cell_type": "code",
   "execution_count": 108,
   "metadata": {
    "scrolled": true
   },
   "outputs": [
    {
     "data": {
      "text/plain": [
       "(-20, 20)"
      ]
     },
     "execution_count": 108,
     "metadata": {},
     "output_type": "execute_result"
    },
    {
     "data": {
      "image/png": "[encoded data removed]",
      "text/plain": [
       "<Figure size 432x288 with 1 Axes>"
      ]
     },
     "metadata": {
      "needs_background": "light"
     },
     "output_type": "display_data"
    }
   ],
   "source": [
    "plt.plot(arr[1]) #first sequence\n",
    "plt.plot(arr[2]) # second sequence \n",
    "plt.ylim(-20,20)"
   ]
  },
  {
   "cell_type": "code",
   "execution_count": null,
   "metadata": {},
   "outputs": [],
   "source": [
    "\n"
   ]
  },
  {
   "cell_type": "markdown",
   "metadata": {},
   "source": [
    "#### tryign to add 'none' values to fill the array\n"
   ]
  },
  {
   "cell_type": "code",
   "execution_count": null,
   "metadata": {},
   "outputs": [],
   "source": []
  },
  {
   "cell_type": "markdown",
   "metadata": {},
   "source": [
    "Testing wtih random sequences\n",
    "        "
   ]
  },
  {
   "cell_type": "code",
   "execution_count": null,
   "metadata": {},
   "outputs": [],
   "source": [
    "f = open('data1.csv')\n",
    "csv_f = csv.reader(f)\n",
    "\n",
    "a = []\n",
    "with open('data3_Main_TimeSeries.csv','w',newline='') as cf:  #newline='' lets us write without adding an extra line betweeen rows\n",
    "    for row[1] in csv_f:\n",
    "        print (row[1])\n",
    "        for col in csv_f:\n",
    "                print (col[1])\n",
    "                d = []\n",
    "                \n",
    "                for x in col[1]:\n",
    "                    print (x)\n",
    "                    c = vals[x]\n",
    "                    a =d.append(c)\n",
    "                print (d)\n",
    "                wr = csv.writer(cf,lineterminator='\\r')\n",
    "                wr.writerow(d)"
   ]
  },
  {
   "cell_type": "code",
   "execution_count": null,
   "metadata": {},
   "outputs": [],
   "source": [
    "#placing the values in a 2D list \n",
    "# can create an array of lists by np.array(mlist1)\n",
    "\n",
    "length = 0\n",
    "current_length = 0\n",
    "mlist1 = []\n",
    "for line in open(\"data1_Main_timeSeries.csv\"):\n",
    "        reader_file = csv.reader(open(\"data1_Main_timeSeries.csv\"))\n",
    "        length_of_file = len(list(reader_file))\n",
    "        x = line.split(',')\n",
    "        y = []\n",
    "        for i in range(len(x)):\n",
    "            y.append(float(x[i]))\n",
    "            \n",
    "            #mlist.append(float(x[i]))\n",
    "        mlist1.append(y)\n",
    "        length = max(length, len(y))\n",
    "        arr = np.asarray(mlist1)\n",
    "\n",
    "        \n",
    "print(arr[1])\n",
    "print(\"\\n\")        \n",
    "print(arr[2])\n",
    "#print(type(mlist1[0][4]))\n",
    "#print (type(arr[0]))\n",
    "#print (type(arr[0][1]))\n",
    "#print (len(arr))\n",
    "#print (arr[1])"
   ]
  },
  {
   "cell_type": "code",
   "execution_count": null,
   "metadata": {},
   "outputs": [],
   "source": []
  },
  {
   "cell_type": "code",
   "execution_count": null,
   "metadata": {},
   "outputs": [],
   "source": []
  }
 ],
 "metadata": {
  "kernelspec": {
   "display_name": "Python 3",
   "language": "python",
   "name": "python3"
  },
  "language_info": {
   "codemirror_mode": {
    "name": "ipython",
    "version": 3
   },
   "file_extension": ".py",
   "mimetype": "text/x-python",
   "name": "python",
   "nbconvert_exporter": "python",
   "pygments_lexer": "ipython3",
   "version": "3.6.5"
  }
 },
 "nbformat": 4,
 "nbformat_minor": 2
}
